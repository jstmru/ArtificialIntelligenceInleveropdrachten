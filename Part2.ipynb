{
 "cells": [
  {
   "cell_type": "markdown",
   "metadata": {},
   "source": [
    "#### *PI7 Part 2*\n",
    "\n",
    "Onderstaand bevind zich de code over de DNN, om de code te runnen moet eerst de mini_speech_commands dataset folder worden toegevoegd aan de solution file."
   ]
  },
  {
   "cell_type": "markdown",
   "metadata": {},
   "source": [
    "### Uitleg van de code\n",
    "\n",
    "```python\n",
    "import os\n",
    "```\n",
    "Importeer de module `os` om bestands- en padbewerkingen uit te voeren.\n",
    "\n",
    "```python\n",
    "import numpy as np\n",
    "```\n",
    "Importeer de `numpy` bibliotheek voor numerieke berekeningen en array manipulaties.\n",
    "\n",
    "```python\n",
    "import librosa\n",
    "import librosa.display\n",
    "```\n",
    "Importeer `librosa` en de bijbehorende display-module voor audioprocessing en visualisatie.\n",
    "\n",
    "```python\n",
    "import matplotlib.pyplot as plt\n",
    "```\n",
    "Importeer `matplotlib.pyplot` voor het maken van grafieken en visualisaties.\n",
    "\n",
    "```python\n",
    "from sklearn.model_selection import train_test_split\n",
    "from sklearn.preprocessing import LabelEncoder\n",
    "from sklearn.metrics import recall_score\n",
    "```\n",
    "Importeer functies van `sklearn` voor dataverwerking en evaluatie, zoals het splitsen van datasets, label-encoding en het berekenen van recall.\n",
    "\n",
    "```python\n",
    "import torch\n",
    "import torch.nn as nn\n",
    "```\n",
    "Importeer de `torch` bibliotheek en de submodule `nn` voor het bouwen van neurale netwerken.\n",
    "\n",
    "```python\n",
    "from torch.utils.data import DataLoader, Dataset\n",
    "import torch.optim as optim\n",
    "```\n",
    "Importeer DataLoader en Dataset om data in batches te laden en optimalisatie-algoritmen voor modeltraining."
   ]
  },
  {
   "cell_type": "code",
   "execution_count": 7,
   "metadata": {},
   "outputs": [],
   "source": [
    "import os\n",
    "import numpy as np\n",
    "import librosa\n",
    "import librosa.display\n",
    "import matplotlib.pyplot as plt\n",
    "from sklearn.model_selection import train_test_split\n",
    "from sklearn.preprocessing import LabelEncoder\n",
    "from sklearn.metrics import recall_score\n",
    "import torch\n",
    "import torch.nn as nn\n",
    "from torch.utils.data import DataLoader, Dataset\n",
    "import torch.optim as optim"
   ]
  },
  {
   "cell_type": "markdown",
   "metadata": {},
   "source": [
    "```python\n",
    "data_dir = './mini_speech_commands'\n",
    "```\n",
    "Definieer de variabele `data_dir` die het pad naar de dataset directory bevat."
   ]
  },
  {
   "cell_type": "code",
   "execution_count": 8,
   "metadata": {},
   "outputs": [],
   "source": [
    "data_dir = './mini_speech_commands'"
   ]
  },
  {
   "cell_type": "markdown",
   "metadata": {},
   "source": [
    "```python\n",
    "def extract_mfcc(file_path, max_pad_len=44):\n",
    "```\n",
    "Definieer de functie `extract_mfcc` die de MFCC (Mel-frequency cepstral coefficients) features uit een audiobestand extraheert.\n",
    "\n",
    "```python\n",
    "audio, sample_rate = librosa.load(file_path, res_type='kaiser_fast')\n",
    "```\n",
    "Laad het audiobestand met `librosa` en verkijg het bijbehorende sample rate.\n",
    "\n",
    "```python\n",
    "mfcc = librosa.feature.mfcc(y=audio, sr=sample_rate, n_mfcc=40)\n",
    "```\n",
    "Extraheer de MFCC-functies uit de audio met 40 coefficients.\n",
    "\n",
    "```python\n",
    "mfcc = librosa.util.normalize(mfcc)\n",
    "```\n",
    "Normaliseer de MFCC om de waarden tussen 0 en 1 te brengen.\n",
    "\n",
    "```python\n",
    "pad_width = max_pad_len - mfcc.shape[1]\n",
    "mfcc = np.pad(mfcc, pad_width=((0, 0), (0, pad_width)), mode='constant')\n",
    "```\n",
    "Bepaal de padding die nodig is om de MFCC-array naar een maximale breedte te brengen en pas deze padding toe.\n",
    "\n",
    "```python\n",
    "return mfcc\n",
    "```\n",
    "Geef de geëxtraheerde en genormaliseerde MFCC terug."
   ]
  },
  {
   "cell_type": "code",
   "execution_count": 9,
   "metadata": {},
   "outputs": [],
   "source": [
    "def extract_mfcc(file_path, max_pad_len=44):\n",
    "    try:\n",
    "        audio, sample_rate = librosa.load(file_path, res_type='kaiser_fast') \n",
    "        mfcc = librosa.feature.mfcc(y=audio, sr=sample_rate, n_mfcc=40)\n",
    "        mfcc = librosa.util.normalize(mfcc)\n",
    "        pad_width = max_pad_len - mfcc.shape[1]\n",
    "        mfcc = np.pad(mfcc, pad_width=((0, 0), (0, pad_width)), mode='constant')\n",
    "        return mfcc\n",
    "    except Exception as e:\n",
    "        print(f\"Error processing {file_path}: {e}\")\n",
    "        return None"
   ]
  },
  {
   "cell_type": "markdown",
   "metadata": {},
   "source": [
    "```python\n",
    "commands = ['yes', 'no', 'up', 'down', 'left', 'right', 'go', 'stop']\n",
    "X = []\n",
    "y = []\n",
    "```\n",
    "Definieer een lijst van spraakcommando's en maak lege lijsten voor de inputfeatures (`X`) en labels (`y`)."
   ]
  },
  {
   "cell_type": "code",
   "execution_count": 10,
   "metadata": {},
   "outputs": [],
   "source": [
    "commands = ['yes', 'no', 'up', 'down', 'left', 'right', 'go', 'stop']\n",
    "X = []\n",
    "y = []"
   ]
  },
  {
   "cell_type": "markdown",
   "metadata": {},
   "source": [
    "```python\n",
    "for label in commands:\n",
    "    label_dir = os.path.join(data_dir, label)\n",
    "```\n",
    "Loop over elke command en bouw het pad naar de directory van die command.\n",
    "\n",
    "```python\n",
    "for file_name in os.listdir(label_dir):\n",
    "    file_path = os.path.join(label_dir, file_name)\n",
    "```\n",
    "Voor elk audiobestand in de directory, krijg het volledige pad naar het bestand.\n",
    "\n",
    "```python\n",
    "mfcc = extract_mfcc(file_path)\n",
    "```\n",
    "Roep de functie `extract_mfcc` aan om de MFCC van het huidige audiobestand te extraheren.\n",
    "\n",
    "```python\n",
    "if mfcc is not None:\n",
    "    X.append(mfcc)\n",
    "    y.append(label)\n",
    "```\n",
    "Als de MFCC succesvol is geëxtraheerd, voeg deze dan toe aan de lijst `X` en de bijbehorende label aan de lijst `y`."
   ]
  },
  {
   "cell_type": "code",
   "execution_count": 11,
   "metadata": {},
   "outputs": [],
   "source": [
    "for label in commands:\n",
    "    label_dir = os.path.join(data_dir, label)\n",
    "    for file_name in os.listdir(label_dir):\n",
    "        file_path = os.path.join(label_dir, file_name)\n",
    "        mfcc = extract_mfcc(file_path)\n",
    "        if mfcc is not None:\n",
    "            X.append(mfcc)\n",
    "            y.append(label)"
   ]
  },
  {
   "cell_type": "markdown",
   "metadata": {},
   "source": [
    "```python\n",
    "X = np.array(X)\n",
    "y = np.array(y)\n",
    "```\n",
    "Converteer de lijsten `X` en `y` naar NumPy-arrays."
   ]
  },
  {
   "cell_type": "code",
   "execution_count": 12,
   "metadata": {},
   "outputs": [],
   "source": [
    "X = np.array(X)\n",
    "y = np.array(y)"
   ]
  },
  {
   "cell_type": "markdown",
   "metadata": {},
   "source": [
    "```python\n",
    "le = LabelEncoder()\n",
    "y_encoded = le.fit_transform(y)\n",
    "```\n",
    "Initialiseer een `LabelEncoder` en encodeer de labels naar integers."
   ]
  },
  {
   "cell_type": "code",
   "execution_count": 13,
   "metadata": {},
   "outputs": [],
   "source": [
    "le = LabelEncoder()\n",
    "y_encoded = le.fit_transform(y)"
   ]
  },
  {
   "cell_type": "markdown",
   "metadata": {},
   "source": [
    "```python\n",
    "X_train, X_test, y_train, y_test = train_test_split(X, y_encoded, test_size=0.2, random_state=42)\n",
    "```\n",
    "Splits de dataset in training en test sets met een ratio van 80-20."
   ]
  },
  {
   "cell_type": "code",
   "execution_count": 14,
   "metadata": {},
   "outputs": [],
   "source": [
    "X_train, X_test, y_train, y_test = train_test_split(X, y_encoded, test_size=0.2, random_state=42)"
   ]
  },
  {
   "cell_type": "markdown",
   "metadata": {},
   "source": [
    "```python\n",
    "class SpeechDataset(Dataset):\n",
    "```\n",
    "Definieer een custom Dataset-klasse `SpeechDataset` die de PyTorch `Dataset` uitbreidt.\n",
    "\n",
    "```python\n",
    "def __init__(self, X, y):\n",
    "    self.X = X\n",
    "    self.y = y\n",
    "```\n",
    "Initialiseer de klasse met de inputfeatures (`X`) en labels (`y`).\n",
    "\n",
    "```python\n",
    "def __len__(self):\n",
    "    return len(self.X)\n",
    "```\n",
    "Definieer de methode `__len__` die de lengte van de dataset retourneert.\n",
    "\n",
    "```python\n",
    "def __getitem__(self, idx):\n",
    "    return torch.tensor(self.X[idx], dtype=torch.float32), torch.tensor(self.y[idx], dtype=torch.long)\n",
    "```\n",
    "Definieer de methode `__getitem__` die een sample uit de dataset retourneert als PyTorch-tensors."
   ]
  },
  {
   "cell_type": "code",
   "execution_count": 15,
   "metadata": {},
   "outputs": [],
   "source": [
    "class SpeechDataset(Dataset):\n",
    "    def __init__(self, X, y):\n",
    "        self.X = X\n",
    "        self.y = y\n",
    "\n",
    "    def __len__(self):\n",
    "        return len(self.X)\n",
    "\n",
    "    def __getitem__(self, idx):\n",
    "        return torch.tensor(self.X[idx], dtype=torch.float32), torch.tensor(self.y[idx], dtype=torch.long)"
   ]
  },
  {
   "cell_type": "markdown",
   "metadata": {},
   "source": [
    "```python\n",
    "train_dataset = SpeechDataset(X_train, y_train)\n",
    "test_dataset = SpeechDataset(X_test, y_test)\n",
    "```\n",
    "Maak instanties van `SpeechDataset` voor zowel de trainings- als testdatasets."
   ]
  },
  {
   "cell_type": "code",
   "execution_count": 16,
   "metadata": {},
   "outputs": [],
   "source": [
    "train_dataset = SpeechDataset(X_train, y_train)\n",
    "test_dataset = SpeechDataset(X_test, y_test)"
   ]
  },
  {
   "cell_type": "markdown",
   "metadata": {},
   "source": [
    "```python\n",
    "train_loader = DataLoader(train_dataset, batch_size=128, shuffle=True)\n",
    "test_loader = DataLoader(test_dataset, batch_size=128, shuffle=False)\n",
    "```\n",
    "Creëer `DataLoader`-objecten voor batchgewijze toegang tot de trainings- en testdatasets."
   ]
  },
  {
   "cell_type": "code",
   "execution_count": 17,
   "metadata": {},
   "outputs": [],
   "source": [
    "train_loader = DataLoader(train_dataset, batch_size=128, shuffle=True)\n",
    "test_loader = DataLoader(test_dataset, batch_size=128, shuffle=False)"
   ]
  },
  {
   "cell_type": "markdown",
   "metadata": {},
   "source": [
    "```python\n",
    "class CNN_LSTM(nn.Module):\n",
    "```\n",
    "Definieer een CNN-LSTM modelklasse die de PyTorch `nn.Module` uitbreidt.\n",
    "\n",
    "```python\n",
    "def __init__(self, num_classes):\n",
    "```\n",
    "Initialiseer het model met het aantal klassen als parameter.\n",
    "\n",
    "```python\n",
    "self.cnn = nn.Sequential(\n",
    "    nn.Conv2d(1, 16, kernel_size=3, stride=1, padding=1),\n",
    "    nn.ReLU(),\n",
    "    nn.MaxPool2d(2, 2),\n",
    "    nn.Conv2d(16, 32, kernel_size=3, stride=1, padding=1),\n",
    "    nn.ReLU(),\n",
    "    nn.MaxPool2d(2, 2)\n",
    ")\n",
    "```\n",
    "Definieer de CNN-sequentie bestaande uit convolutielagen, activatiefuncties en max pooling.\n",
    "\n",
    "```python\n",
    "self.dropout = nn.Dropout(0.3)\n",
    "```\n",
    "Voeg een dropout-laag toe na de CNN om overfitting te voorkomen.\n",
    "\n",
    "```python\n",
    "self.lstm = nn.LSTM(32 * 10, 64, batch_first=True)\n",
    "self.fc = nn.Linear(64, num_classes)\n",
    "```\n",
    "Definieer de LSTM-laag en de volledig verbonden laag die de output aan het aantal klassen verbindt.\n",
    "\n",
    "```python\n",
    "def forward(self, x):\n",
    "```\n",
    "Definieer de `forward` methode die de input door het netwerk leidt.\n",
    "\n",
    "```python\n",
    "x = self.cnn(x.unsqueeze(1)) \n",
    "```\n",
    "Voeg een kanaaldimensie toe aan de input en pas de CNN toe.\n",
    "\n",
    "```python\n",
    "x = self.dropout(x) \n",
    "```\n",
    "Pas dropout toe op de output van de CNN.\n",
    "\n",
    "```python\n",
    "x = x.view(x.size(0), -1, 32 * 10) \n",
    "```\n",
    "Herschik de tensor voor input in de LSTM.\n",
    "\n",
    "```python\n",
    "x, _ = self.lstm(x)\n",
    "```\n",
    "Voer de LSTM uit op de input.\n",
    "\n",
    "```python\n",
    "x = x[:, -1, :] \n",
    "```\n",
    "Selecteer de laatste output van de LSTM.\n",
    "\n",
    "```python\n",
    "x = self.fc(x)\n",
    "return x\n",
    "```\n",
    "Voer de output door de volledig verbonden laag en geef de output terug."
   ]
  },
  {
   "cell_type": "code",
   "execution_count": 18,
   "metadata": {},
   "outputs": [],
   "source": [
    "class CNN_LSTM(nn.Module):\n",
    "    def __init__(self, num_classes):\n",
    "        super(CNN_LSTM, self).__init__()\n",
    "        self.cnn = nn.Sequential(\n",
    "            nn.Conv2d(1, 16, kernel_size=3, stride=1, padding=1),\n",
    "            nn.ReLU(),\n",
    "            nn.MaxPool2d(2, 2),\n",
    "            nn.Conv2d(16, 32, kernel_size=3, stride=1, padding=1),\n",
    "            nn.ReLU(),\n",
    "            nn.MaxPool2d(2, 2)\n",
    "        )\n",
    "\n",
    "        self.dropout = nn.Dropout(0.3)\n",
    "        self.lstm = nn.LSTM(32 * 10, 64, batch_first=True)\n",
    "        self.fc = nn.Linear(64, num_classes)\n",
    "    \n",
    "    def forward(self, x):\n",
    "        x = self.cnn(x.unsqueeze(1))  \n",
    "        x = self.dropout(x) \n",
    "        x = x.view(x.size(0), -1, 32 * 10) \n",
    "        x, _ = self.lstm(x)\n",
    "        x = x[:, -1, :] \n",
    "        x = self.fc(x)\n",
    "        return x"
   ]
  },
  {
   "cell_type": "markdown",
   "metadata": {},
   "source": [
    "```python\n",
    "num_classes = len(commands)\n",
    "learning_rate = 0.001\n",
    "num_epochs = 5\n",
    "```\n",
    "Definieer hyperparameters zoals het aantal klassen, leersnelheid en aantal epochs."
   ]
  },
  {
   "cell_type": "code",
   "execution_count": 19,
   "metadata": {},
   "outputs": [],
   "source": [
    "num_classes = len(commands)\n",
    "learning_rate = 0.001\n",
    "num_epochs = 50"
   ]
  },
  {
   "cell_type": "markdown",
   "metadata": {},
   "source": [
    "```python\n",
    "device = torch.device('cuda' if torch.cuda.is_available() else 'cpu')\n",
    "```\n",
    "Controleer of een GPU beschikbaar is en stel het apparaat in op `cuda` of `cpu`.\n",
    "\n",
    "```python\n",
    "model = CNN_LSTM(num_classes).to(device)\n",
    "```\n",
    "Creëer een instantie van het model en verplaats deze naar het juiste apparaat.\n",
    "\n",
    "```python\n",
    "criterion = nn.CrossEntropyLoss()\n",
    "optimizer = optim.Adam(model.parameters(), lr=learning_rate)\n",
    "```\n",
    "Definieer de verliesfunctie en de optimizer voor het model."
   ]
  },
  {
   "cell_type": "code",
   "execution_count": 20,
   "metadata": {},
   "outputs": [],
   "source": [
    "device = torch.device('cuda' if torch.cuda.is_available() else 'cpu')\n",
    "model = CNN_LSTM(num_classes).to(device)\n",
    "criterion = nn.CrossEntropyLoss()\n",
    "optimizer = optim.Adam(model.parameters(), lr=learning_rate)"
   ]
  },
  {
   "cell_type": "markdown",
   "metadata": {},
   "source": [
    "```python\n",
    "train_history = []\n",
    "val_history = []\n",
    "```\n",
    "Initialiseer lijsten om de trainings- en validatiegeschiedenis op te slaan."
   ]
  },
  {
   "cell_type": "code",
   "execution_count": 21,
   "metadata": {},
   "outputs": [],
   "source": [
    "train_history = []\n",
    "val_history = []"
   ]
  },
  {
   "cell_type": "markdown",
   "metadata": {},
   "source": [
    "```python\n",
    "for epoch in range(num_epochs):\n",
    "```\n",
    "Begin een loop voor het aantal epochs.\n",
    "\n",
    "```python\n",
    "model.train()\n",
    "running_loss = 0.0\n",
    "```\n",
    "Zet het model in de trainingsmodus en initialiseer de lopende verlieswaarde.\n",
    "\n",
    "```python\n",
    "for mfccs, labels in train_loader:\n",
    "```\n",
    "Loop over batches in de `train_loader`.\n",
    "\n",
    "```python\n",
    "mfccs, labels = mfccs.to(device), labels.to(device)\n",
    "```\n",
    "Verplaats de MFCCs en labels naar het juiste apparaat.\n",
    "\n",
    "```python\n",
    "outputs =\n",
    "\n",
    " model(mfccs)\n",
    "loss = criterion(outputs, labels)\n",
    "```\n",
    "Voer een forward pass uit en bereken het verlies.\n",
    "\n",
    "```python\n",
    "optimizer.zero_grad()\n",
    "loss.backward()\n",
    "optimizer.step()\n",
    "```\n",
    "Voer de backward pass uit en update de gewichten van het model.\n",
    "\n",
    "```python\n",
    "running_loss += loss.item()\n",
    "```\n",
    "Voeg het verlies van de huidige batch toe aan de lopende verlieswaarde.\n",
    "\n",
    "```python\n",
    "train_history.append(running_loss / len(train_loader))\n",
    "```\n",
    "Bereken het gemiddelde verlies voor de training en sla het op.\n",
    "\n",
    "```python\n",
    "model.eval()\n",
    "val_loss = 0.0\n",
    "```\n",
    "Zet het model in evaluatiemodus en initialiseer de validatieverlieswaarde.\n",
    "\n",
    "```python\n",
    "with torch.no_grad():\n",
    "```\n",
    "Deactiveer gradient tracking om geheugengebruik te besparen tijdens evaluatie.\n",
    "\n",
    "```python\n",
    "for mfccs, labels in test_loader:\n",
    "```\n",
    "Loop over batches in de `test_loader`.\n",
    "\n",
    "```python\n",
    "mfccs, labels = mfccs.to(device), labels.to(device)\n",
    "outputs = model(mfccs)\n",
    "loss = criterion(outputs, labels)\n",
    "```\n",
    "Voer een forward pass uit en bereken het verlies op de testdata.\n",
    "\n",
    "```python\n",
    "val_loss += loss.item()\n",
    "```\n",
    "Voeg het verlies van de huidige batch toe aan de validatieverlieswaarde.\n",
    "\n",
    "```python\n",
    "val_history.append(val_loss / len(test_loader))\n",
    "```\n",
    "Sla het gemiddelde verlies voor de validatie op.\n",
    "\n",
    "```python\n",
    "print(f\"Epoch [{epoch+1}/{num_epochs}], Train Loss: {train_history[-1]:.4f}, Val Loss: {val_history[-1]:.4f}\")\n",
    "```\n",
    "Print de verlieswaarden voor de huidige epoch."
   ]
  },
  {
   "cell_type": "code",
   "execution_count": 22,
   "metadata": {},
   "outputs": [
    {
     "name": "stdout",
     "output_type": "stream",
     "text": [
      "Epoch [1/50], Train Loss: 2.0791, Val Loss: 2.0751\n",
      "Epoch [2/50], Train Loss: 1.9854, Val Loss: 1.8223\n",
      "Epoch [3/50], Train Loss: 1.7259, Val Loss: 1.5490\n",
      "Epoch [4/50], Train Loss: 1.4795, Val Loss: 1.2923\n",
      "Epoch [5/50], Train Loss: 1.2989, Val Loss: 1.1450\n",
      "Epoch [6/50], Train Loss: 1.2035, Val Loss: 1.0769\n",
      "Epoch [7/50], Train Loss: 1.1087, Val Loss: 1.0075\n",
      "Epoch [8/50], Train Loss: 1.0440, Val Loss: 0.9464\n",
      "Epoch [9/50], Train Loss: 0.9760, Val Loss: 0.9796\n",
      "Epoch [10/50], Train Loss: 0.9311, Val Loss: 0.8572\n",
      "Epoch [11/50], Train Loss: 0.8910, Val Loss: 0.8231\n",
      "Epoch [12/50], Train Loss: 0.8630, Val Loss: 0.8075\n",
      "Epoch [13/50], Train Loss: 0.8193, Val Loss: 0.7518\n",
      "Epoch [14/50], Train Loss: 0.7945, Val Loss: 0.7611\n",
      "Epoch [15/50], Train Loss: 0.7752, Val Loss: 0.7144\n",
      "Epoch [16/50], Train Loss: 0.7436, Val Loss: 0.6967\n",
      "Epoch [17/50], Train Loss: 0.7239, Val Loss: 0.6929\n",
      "Epoch [18/50], Train Loss: 0.7131, Val Loss: 0.6832\n",
      "Epoch [19/50], Train Loss: 0.6682, Val Loss: 0.6576\n",
      "Epoch [20/50], Train Loss: 0.6475, Val Loss: 0.6216\n",
      "Epoch [21/50], Train Loss: 0.6328, Val Loss: 0.6443\n",
      "Epoch [22/50], Train Loss: 0.6364, Val Loss: 0.6014\n",
      "Epoch [23/50], Train Loss: 0.6020, Val Loss: 0.5886\n",
      "Epoch [24/50], Train Loss: 0.5915, Val Loss: 0.5812\n",
      "Epoch [25/50], Train Loss: 0.5675, Val Loss: 0.5818\n",
      "Epoch [26/50], Train Loss: 0.5416, Val Loss: 0.5880\n",
      "Epoch [27/50], Train Loss: 0.5423, Val Loss: 0.5414\n",
      "Epoch [28/50], Train Loss: 0.5161, Val Loss: 0.5601\n",
      "Epoch [29/50], Train Loss: 0.5212, Val Loss: 0.5299\n",
      "Epoch [30/50], Train Loss: 0.5090, Val Loss: 0.5303\n",
      "Epoch [31/50], Train Loss: 0.4917, Val Loss: 0.5272\n",
      "Epoch [32/50], Train Loss: 0.4734, Val Loss: 0.5143\n",
      "Epoch [33/50], Train Loss: 0.4561, Val Loss: 0.5278\n",
      "Epoch [34/50], Train Loss: 0.4666, Val Loss: 0.5143\n",
      "Epoch [35/50], Train Loss: 0.4467, Val Loss: 0.5005\n",
      "Epoch [36/50], Train Loss: 0.4220, Val Loss: 0.5040\n",
      "Epoch [37/50], Train Loss: 0.4245, Val Loss: 0.5003\n",
      "Epoch [38/50], Train Loss: 0.4250, Val Loss: 0.4844\n",
      "Epoch [39/50], Train Loss: 0.4213, Val Loss: 0.4990\n",
      "Epoch [40/50], Train Loss: 0.3900, Val Loss: 0.4888\n",
      "Epoch [41/50], Train Loss: 0.3919, Val Loss: 0.4840\n",
      "Epoch [42/50], Train Loss: 0.3773, Val Loss: 0.4940\n",
      "Epoch [43/50], Train Loss: 0.3645, Val Loss: 0.4396\n",
      "Epoch [44/50], Train Loss: 0.3610, Val Loss: 0.4645\n",
      "Epoch [45/50], Train Loss: 0.3484, Val Loss: 0.5023\n",
      "Epoch [46/50], Train Loss: 0.3497, Val Loss: 0.4551\n",
      "Epoch [47/50], Train Loss: 0.3334, Val Loss: 0.4700\n",
      "Epoch [48/50], Train Loss: 0.3334, Val Loss: 0.4605\n",
      "Epoch [49/50], Train Loss: 0.3182, Val Loss: 0.4601\n",
      "Epoch [50/50], Train Loss: 0.3186, Val Loss: 0.4444\n"
     ]
    }
   ],
   "source": [
    "for epoch in range(num_epochs):\n",
    "    model.train()\n",
    "    running_loss = 0.0\n",
    "    for mfccs, labels in train_loader:\n",
    "        mfccs, labels = mfccs.to(device), labels.to(device)\n",
    "\n",
    "        outputs = model(mfccs)\n",
    "        loss = criterion(outputs, labels)\n",
    "\n",
    "        optimizer.zero_grad()\n",
    "        loss.backward()\n",
    "        optimizer.step()\n",
    "\n",
    "        running_loss += loss.item()\n",
    "\n",
    "    train_history.append(running_loss / len(train_loader))\n",
    "\n",
    "\n",
    "    model.eval()\n",
    "    val_loss = 0.0\n",
    "    with torch.no_grad():\n",
    "        for mfccs, labels in test_loader:\n",
    "            mfccs, labels = mfccs.to(device), labels.to(device)\n",
    "            outputs = model(mfccs)\n",
    "            loss = criterion(outputs, labels)\n",
    "            val_loss += loss.item()\n",
    "\n",
    "    val_history.append(val_loss / len(test_loader))\n",
    "\n",
    "    print(f\"Epoch [{epoch+1}/{num_epochs}], Train Loss: {train_history[-1]:.4f}, Val Loss: {val_history[-1]:.4f}\")"
   ]
  },
  {
   "cell_type": "markdown",
   "metadata": {},
   "source": [
    "-----------------------------------------------------------------------------------------------------------------------------------------------"
   ]
  },
  {
   "cell_type": "markdown",
   "metadata": {},
   "source": [
    "```python\n",
    "plt.plot(train_history, label='train')\n",
    "plt.plot(val_history, label='val')\n",
    "```\n",
    "Plot de trainings- en validatieverliezen.\n",
    "\n",
    "```python\n",
    "plt.title('Training and Validation Loss')\n",
    "plt.xlabel('Epoch')\n",
    "plt.ylabel('Loss')\n",
    "plt.legend()\n",
    "plt.show()\n",
    "```\n",
    "Voeg titels, labels en legenda toe aan de plot en toon deze."
   ]
  },
  {
   "cell_type": "code",
   "execution_count": 23,
   "metadata": {},
   "outputs": [
    {
     "data": {
      "image/png": "[encoded data removed]",
      "text/plain": [
       "<Figure size 640x480 with 1 Axes>"
      ]
     },
     "metadata": {},
     "output_type": "display_data"
    }
   ],
   "source": [
    "plt.plot(train_history, label='train')\n",
    "plt.plot(val_history, label='val')\n",
    "plt.title('Training and Validation Loss')\n",
    "plt.xlabel('Epoch')\n",
    "plt.ylabel('Loss')\n",
    "plt.legend()\n",
    "plt.show()"
   ]
  },
  {
   "cell_type": "markdown",
   "metadata": {},
   "source": [
    "-----------------------------------------------------------------------------------------------------------------------------------------------"
   ]
  },
  {
   "cell_type": "markdown",
   "metadata": {},
   "source": [
    "```python\n",
    "model.eval()\n",
    "test_loss = 0.0\n",
    "correct = 0\n",
    "total = 0\n",
    "all_labels = []\n",
    "all_predictions = []\n",
    "```\n",
    "Zet het model in evaluatiemodus en initialiseer variabelen voor testevaluatie."
   ]
  },
  {
   "cell_type": "code",
   "execution_count": 24,
   "metadata": {},
   "outputs": [],
   "source": [
    "model.eval()\n",
    "test_loss = 0.0\n",
    "correct = 0\n",
    "total = 0\n",
    "all_labels = []\n",
    "all_predictions = []"
   ]
  },
  {
   "cell_type": "markdown",
   "metadata": {},
   "source": [
    "```python\n",
    "with torch.no_grad():\n",
    "```\n",
    "Deactiveer gradient tracking voor de evaluatie.\n",
    "\n",
    "```python\n",
    "for mfccs, labels in test_loader:\n",
    "```\n",
    "Loop over batches in de `test_loader`.\n",
    "\n",
    "```python\n",
    "mfccs, labels = mfccs.to(device), labels.to(device)\n",
    "outputs = model(mfccs)\n",
    "loss = criterion(outputs, labels)\n",
    "test_loss += loss.item()\n",
    "```\n",
    "Voer een forward pass uit, bereken het verlies en voeg dit toe aan de testverlieswaarde.\n",
    "\n",
    "```python\n",
    "_, predicted = torch.max(outputs.data, 1)\n",
    "```\n",
    "Bepaal de voorspellingen door de maximale outputwaarde van het model te nemen.\n",
    "\n",
    "```python\n",
    "total += labels.size(0)\n",
    "correct += (predicted == labels).sum().item()\n",
    "```\n",
    "Tel het totaal aantal correct geclassificeerde labels.\n",
    "\n",
    "```python\n",
    "all_labels.extend(labels.cpu().numpy())\n",
    "all_predictions.extend(predicted.cpu().numpy())\n",
    "```\n",
    "Verzamel alle labels en voorspellingen voor evaluatie."
   ]
  },
  {
   "cell_type": "code",
   "execution_count": 25,
   "metadata": {},
   "outputs": [],
   "source": [
    "with torch.no_grad():\n",
    "    for mfccs, labels in test_loader:\n",
    "        mfccs, labels = mfccs.to(device), labels.to(device)\n",
    "        outputs = model(mfccs)\n",
    "        loss = criterion(outputs, labels)\n",
    "        test_loss += loss.item()\n",
    "\n",
    "        _, predicted = torch.max(outputs.data, 1)\n",
    "        total += labels.size(0)\n",
    "        correct += (predicted == labels).sum().item()\n",
    "\n",
    "        all_labels.extend(labels.cpu().numpy())\n",
    "        all_predictions.extend(predicted.cpu().numpy())"
   ]
  },
  {
   "cell_type": "markdown",
   "metadata": {},
   "source": [
    "```python\n",
    "test_loss /= len(test_loader)\n",
    "accuracy = 100 * correct / total\n",
    "```\n",
    "Bereken het gemiddelde testverlies en de nauwkeurigheid van het model."
   ]
  },
  {
   "cell_type": "code",
   "execution_count": 26,
   "metadata": {},
   "outputs": [],
   "source": [
    "test_loss /= len(test_loader)\n",
    "accuracy = 100 * correct / total"
   ]
  },
  {
   "cell_type": "markdown",
   "metadata": {},
   "source": [
    "```python\n",
    "recall = recall_score(all_labels, all_predictions, average='macro')\n",
    "```\n",
    "Bereken de recall score voor de testset.\n",
    "\n",
    "```python\n",
    "print(f'Test Loss: {test_loss:.4f}, Test Accuracy: {accuracy:.2f}%')\n",
    "print(f'Test Recall: {recall:.4f}')\n",
    "```\n",
    "Print de uiteindelijke testverlies, nauwkeurigheid en recall scores."
   ]
  },
  {
   "cell_type": "code",
   "execution_count": 27,
   "metadata": {},
   "outputs": [
    {
     "name": "stdout",
     "output_type": "stream",
     "text": [
      "Test Loss: 0.4444, Test Accuracy: 85.19%\n",
      "Test Recall: 0.8547\n"
     ]
    }
   ],
   "source": [
    "recall = recall_score(all_labels, all_predictions, average='macro')\n",
    "\n",
    "print(f'Test Loss: {test_loss:.4f}, Test Accuracy: {accuracy:.2f}%')\n",
    "print(f'Test Recall: {recall:.4f}')"
   ]
  }
 ],
 "metadata": {
  "kernelspec": {
   "display_name": ".venv",
   "language": "python",
   "name": "python3"
  },
  "language_info": {
   "codemirror_mode": {
    "name": "ipython",
    "version": 3
   },
   "file_extension": ".py",
   "mimetype": "text/x-python",
   "name": "python",
   "nbconvert_exporter": "python",
   "pygments_lexer": "ipython3",
   "version": "3.10.13"
  }
 },
 "nbformat": 4,
 "nbformat_minor": 2
}
